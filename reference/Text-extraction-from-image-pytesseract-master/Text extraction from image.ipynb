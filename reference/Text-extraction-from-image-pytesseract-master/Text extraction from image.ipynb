{
 "cells": [
  {
   "cell_type": "markdown",
   "metadata": {},
   "source": [
    "# Text extraction from Image or PDF\n",
    "\n",
    "### With pytesseract Library we can extract text from images or pdf(that cannot be click or copy from it)"
   ]
  },
  {
   "cell_type": "markdown",
   "metadata": {},
   "source": [
    "# Import packages"
   ]
  },
  {
   "cell_type": "code",
   "execution_count": null,
   "metadata": {},
   "outputs": [],
   "source": [
    "from PIL import Image\n",
    "import pytesseract\n",
    "import cv2\n",
    "import numpy as np"
   ]
  },
  {
   "cell_type": "markdown",
   "metadata": {},
   "source": [
    "##### I use this command, because I've installed tesseract.exe, but not the python package "
   ]
  },
  {
   "cell_type": "code",
   "execution_count": null,
   "metadata": {},
   "outputs": [],
   "source": [
    "pytesseract.pytesseract.tesseract_cmd = r'C:/Program Files/Learnpulse/Screenpresso/Tesseract/tesseract.exe'"
   ]
  },
  {
   "cell_type": "markdown",
   "metadata": {},
   "source": [
    "# Resize image\n",
    "\n",
    "#### in order to have a better result (the output text with high accuracy) we should do some preprocessing steps on images, one of them is resizing.\n",
    "\n",
    "#### which methods or which resizing order we need, depend on the raw image, the size, pixel and some other features. "
   ]
  },
  {
   "cell_type": "code",
   "execution_count": null,
   "metadata": {},
   "outputs": [],
   "source": [
    "def resize(img_path):\n",
    "    src = \"C:/Users/NIH7ABT/Desktop/pics/bearbeitug/\" # path of raw image\n",
    "    im = Image.open(img_path)\n",
    "    im = im.convert('RGB')\n",
    "    length_x, width_y = im.size\n",
    "    size = int(3 * length_x), int(2 * width_y)\n",
    "    im_resized = im.resize(size, Image.BICUBIC)\n",
    "    im_resized.save(src + \"resized_img.jpg\")\n",
    "    return"
   ]
  },
  {
   "cell_type": "code",
   "execution_count": null,
   "metadata": {},
   "outputs": [],
   "source": [
    "resize(\"demo.jpg\") # for example, a screenshot from a word file."
   ]
  },
  {
   "cell_type": "markdown",
   "metadata": {},
   "source": [
    "\n",
    "\n",
    "#### the second preprocessing tool in our issue is **Thresholding**\n",
    "\n",
    "#### in this section, first adjust a threshold on image pixel values, now the pixels are whether black or white. Then we input it to the pytesseract lib and the output would be written in free text file( output.txt)\n",
    "\n"
   ]
  },
  {
   "cell_type": "code",
   "execution_count": null,
   "metadata": {},
   "outputs": [],
   "source": [
    "def threshold_extract():\n",
    "    src = \"C:/Users/NIH7ABT/Desktop/pics/bearbeitug/\"\n",
    "    img = cv2.imread(src + \"resized_img.jpg\", cv2.IMREAD_GRAYSCALE)\n",
    "    \n",
    "    kernel = np.ones((1,1))\n",
    "    img = cv2.dilate(img, kernel, iterations=1)\n",
    "    img = cv2.erode(img, kernel, iterations=1)\n",
    "\n",
    "    height = img.shape[0]\n",
    "    width = img.shape[1]\n",
    "\n",
    "    threshold = 150\n",
    "\n",
    "    for i in np.arange(height):\n",
    "        for j in np.arange(width):\n",
    "            a = img.item(i,j)\n",
    "            if a > threshold:\n",
    "                b = 255\n",
    "            else:\n",
    "                b = 0\n",
    "            img.itemset((i,j), b)\n",
    "\n",
    "    cv2.imwrite(src + \"thres.jpg\", img)\n",
    "    \n",
    "    result = pytesseract.image_to_string(Image.open(\"thres.jpg\"))\n",
    "    with open('output.txt', mode='w') as file:\n",
    "             file.write(result)\n",
    "    return \n",
    "\n",
    "threshold_extract()"
   ]
  },
  {
   "cell_type": "markdown",
   "metadata": {},
   "source": [
    "\n",
    "\n",
    "# Measuring the accuracy\n",
    "\n",
    "#### in acc measurement we compare the output text with the text, that we copied from word file (for example or any other files) and then pasted in \"copied_from_word_file.txt\" fiel.\n",
    "\n",
    "#### it has measured in to level, character level and word level accuracy."
   ]
  },
  {
   "cell_type": "code",
   "execution_count": null,
   "metadata": {},
   "outputs": [],
   "source": [
    "def char_accuracy(main, pic):\n",
    "    read_A=open(main,'r').read()\n",
    "    read_B=open(pic,'r').read()\n",
    "\n",
    "    x=[i for i, j in zip(read_A, read_B) if i != j]\n",
    "    \n",
    "    main=open(main, \"r\").read()\n",
    "    y=[i for i in main]\n",
    "    \n",
    "    return (((len(y)-len(x))/len(y))*100)\n",
    "\n",
    "char_accuracy(\"copied_from_word_file.txt\", \"output.txt\")"
   ]
  },
  {
   "cell_type": "code",
   "execution_count": null,
   "metadata": {},
   "outputs": [],
   "source": [
    "def word_accuracy(main, pic):\n",
    "    main_word=[]\n",
    "    pic_word=[]\n",
    "    \n",
    "    with open(main,'r') as f:\n",
    "        for line in f:\n",
    "            for word in line.split():\n",
    "               main_word.append(word)\n",
    "            \n",
    "    with open(pic,'r') as f:\n",
    "        for line in f:\n",
    "            for word in line.split():\n",
    "               pic_word.append(word)\n",
    "\n",
    "    diff=[i for i, j in zip(main_word, pic_word) if i != j]\n",
    "    \n",
    "    return(((len(main_word)-len(diff))/len(main_word))*100), diff\n",
    "\n",
    "word_accuracy(\"copied_from_word_file.txt\", \"output.txt\")"
   ]
  },
  {
   "cell_type": "markdown",
   "metadata": {},
   "source": [
    "# .\n",
    "# .\n",
    "# .\n",
    "# That's it."
   ]
  }
 ],
 "metadata": {
  "kernelspec": {
   "display_name": "Python 2",
   "language": "python",
   "name": "python2"
  },
  "language_info": {
   "codemirror_mode": {
    "name": "ipython",
    "version": 2
   },
   "file_extension": ".py",
   "mimetype": "text/x-python",
   "name": "python",
   "nbconvert_exporter": "python",
   "pygments_lexer": "ipython2",
   "version": "2.7.12"
  }
 },
 "nbformat": 4,
 "nbformat_minor": 2
}
