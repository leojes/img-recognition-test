{
 "cells": [
  {
   "cell_type": "code",
   "execution_count": 1,
   "metadata": {},
   "outputs": [],
   "source": [
    "import cv2                  # Importthe Opencv Library\n",
    "import numpy as np          # Import NumPy, package for scientific computing with Python\n"
   ]
  },
  {
   "cell_type": "code",
   "execution_count": 2,
   "metadata": {},
   "outputs": [],
   "source": [
    "img = cv2.imread(r\"C:\\Users\\USER\\Downloads\\carimage.jpg\")                     # Read the Image\n",
    "cv2.namedWindow(\"Original Image\",cv2.WINDOW_NORMAL)     # Create a Named window to display image\n",
    "cv2.imshow(\"Original Image\",img)                        # Display the Image"
   ]
  },
  {
   "cell_type": "code",
   "execution_count": 3,
   "metadata": {},
   "outputs": [],
   "source": [
    "\n",
    "# RGB to Gray scale conversion\n",
    "img_gray = cv2.cvtColor(img,cv2.COLOR_RGB2GRAY)\n",
    "cv2.namedWindow(\"1 - Grayscale Conversion\",cv2.WINDOW_NORMAL)\n",
    "cv2.imshow(\"1 - Grayscale Conversion\",img_gray)\n",
    "\n"
   ]
  },
  {
   "cell_type": "code",
   "execution_count": 4,
   "metadata": {},
   "outputs": [],
   "source": [
    "# Noise removal with iterative bilateral filter(removes noise while preserving edges)\n",
    "noise_removal = cv2.bilateralFilter(img_gray,9,75,75)\n",
    "cv2.namedWindow(\"2 - Noise Removal(Bilateral Filtering)\",cv2.WINDOW_NORMAL)\n",
    "cv2.imshow(\"2 - Noise Removal(Bilateral Filtering)\",noise_removal)\n"
   ]
  },
  {
   "cell_type": "code",
   "execution_count": 5,
   "metadata": {},
   "outputs": [],
   "source": [
    "# Histogram equalisation for better results\n",
    "equal_histogram = cv2.equalizeHist(noise_removal)\n",
    "cv2.namedWindow(\"3 - Histogram equalisation\",cv2.WINDOW_NORMAL)\n",
    "cv2.imshow(\"3 - Histogram equalisation\",equal_histogram)"
   ]
  },
  {
   "cell_type": "code",
   "execution_count": 6,
   "metadata": {},
   "outputs": [],
   "source": [
    "# Morphological opening with a rectangular structure element\n",
    "kernel = cv2.getStructuringElement(cv2.MORPH_RECT,(5,5))                                # create the kernel\n",
    "morph_image = cv2.morphologyEx(equal_histogram,cv2.MORPH_OPEN,kernel,iterations=15)     # Morphological opening using the kernal created\n",
    "cv2.namedWindow(\"4 - Morphological opening\",cv2.WINDOW_NORMAL)\n",
    "cv2.imshow(\"4 - Morphological opening\",morph_image)\n"
   ]
  },
  {
   "cell_type": "code",
   "execution_count": 7,
   "metadata": {},
   "outputs": [],
   "source": [
    "\n",
    "# Image subtraction(Subtracting the Morphed image from the histogram equalised Image)\n",
    "sub_morp_image = cv2.subtract(equal_histogram,morph_image)\n",
    "cv2.namedWindow(\"5 - Image Subtraction\", cv2.WINDOW_NORMAL)\n",
    "cv2.imshow(\"5 - Image Subtraction\", sub_morp_image)\n"
   ]
  },
  {
   "cell_type": "code",
   "execution_count": 8,
   "metadata": {},
   "outputs": [],
   "source": [
    "\n",
    "# Thresholding the image\n",
    "ret,thresh_image = cv2.threshold(sub_morp_image,0,255,cv2.THRESH_OTSU)\n",
    "cv2.namedWindow(\"6 - Thresholding\",cv2.WINDOW_NORMAL)\n",
    "cv2.imshow(\"6 - Thresholding\",thresh_image)\n"
   ]
  },
  {
   "cell_type": "code",
   "execution_count": 9,
   "metadata": {},
   "outputs": [],
   "source": [
    "\n",
    "# Applying Canny Edge detection\n",
    "canny_image = cv2.Canny(thresh_image,250,255)\n",
    "cv2.namedWindow(\"7 - Canny Edge Detection\",cv2.WINDOW_NORMAL)\n",
    "cv2.imshow(\"7 - Canny Edge Detection\",canny_image)\n",
    "\n"
   ]
  },
  {
   "cell_type": "code",
   "execution_count": 10,
   "metadata": {},
   "outputs": [],
   "source": [
    "canny_image = cv2.convertScaleAbs(canny_image)\n"
   ]
  },
  {
   "cell_type": "code",
   "execution_count": 11,
   "metadata": {},
   "outputs": [],
   "source": [
    "\n",
    "# Dilation - to strengthen the edges\n",
    "kernel = np.ones((3,3), np.uint8)                               # Create the kernel for dilation\n",
    "dilated_image = cv2.dilate(canny_image,kernel,iterations=1)     # Carry out Dilation\n",
    "cv2.namedWindow(\"8 - Dilation(closing)\", cv2.WINDOW_NORMAL)\n",
    "cv2.imshow(\"8 - Dilation(closing)\", dilated_image)\n"
   ]
  },
  {
   "cell_type": "code",
   "execution_count": 12,
   "metadata": {},
   "outputs": [],
   "source": [
    "\n",
    "# Finding Contours in the image based on edges\n",
    "(contours, hierarchy) = cv2.findContours(dilated_image, cv2.RETR_TREE, cv2.CHAIN_APPROX_SIMPLE)\n",
    "# Sort the contours based on area ,so that the number plate will be in top 10 contours\n",
    "contours= sorted(contours, key = cv2.contourArea, reverse = True)[:10]\n",
    "\n",
    "NumberPlateCnt = None\n",
    "\n"
   ]
  },
  {
   "cell_type": "code",
   "execution_count": 13,
   "metadata": {},
   "outputs": [],
   "source": [
    "# loop over the contours list\n",
    "for c in contours:\n",
    "     # approximate the contour\n",
    "     peri = cv2.arcLength(c, True)\n",
    "     approx = cv2.approxPolyDP(c, 0.06 * peri, True)  # Approximating with 6% error\n",
    "     # if our approximated contour has four points, then\n",
    "     # we can assume that we have found our NumberPlate\n",
    "     if len(approx) == 4:           # Select the contour with 4 corners\n",
    "          NumberPlateCnt = approx   #assign to NumberPlateCnt when approximate contour found\n",
    "          break                     # break the loop when Number Plate contour found/approximated\n",
    "\n"
   ]
  },
  {
   "cell_type": "code",
   "execution_count": 14,
   "metadata": {},
   "outputs": [],
   "source": [
    "# Drawing the selected contour on the original image\n",
    "final = cv2.drawContours(img, [NumberPlateCnt], -1, (0, 255, 0), 3)\n",
    "\n",
    "cv2.namedWindow(\"9 - Approximated Contour\",cv2.WINDOW_NORMAL)\n",
    "cv2.imshow(\"9 - Approximated Contour\",final)\n"
   ]
  },
  {
   "cell_type": "code",
   "execution_count": 15,
   "metadata": {},
   "outputs": [],
   "source": [
    "\n",
    "\n",
    "# SEPARATING OUT THE NUMBER PLATE FROM IMAGE:\n",
    "\n",
    "# Masking the part other than the number plate\n",
    "mask = np.zeros(img_gray.shape,np.uint8)                            # create an empty black image\n",
    "new_image = cv2.drawContours(mask,[NumberPlateCnt],0,255,-1,)       # Draw the contour of number plate on the black image - This is our mask\n",
    "new_image = cv2.bitwise_and(img,img,mask=mask)                      # Take bitwise AND with the original image so we can just get the Number Plate from the original image\n",
    "cv2.namedWindow(\"10 - Number Plate Separation\",cv2.WINDOW_NORMAL)\n",
    "cv2.imshow(\"10 - Number Plate Separation\",new_image)\n",
    "\n"
   ]
  },
  {
   "cell_type": "code",
   "execution_count": 16,
   "metadata": {},
   "outputs": [],
   "source": [
    "\n",
    "\n",
    "#HISTOGRAM EQUALIZATION FOR ENHANCING THE NUMBER PLATE FOR FURTHER PROCESSING:\n",
    "\n",
    "\n",
    "y,cr,cb = cv2.split(cv2.cvtColor(new_image,cv2.COLOR_RGB2YCrCb))        # Converting the image to YCrCb model and splitting the 3 channels\n",
    "y = cv2.equalizeHist(y)                                                 # Applying histogram equalisation\n",
    "final_image = cv2.cvtColor(cv2.merge([y,cr,cb]),cv2.COLOR_YCrCb2RGB)    # Merging the 3 channels\n",
    "cv2.namedWindow(\"11 - Enhanced Number Plate\",cv2.WINDOW_NORMAL)\n",
    "cv2.imshow(\"11 - Enhanced Number Plate\",final_image)\n",
    "\n"
   ]
  },
  {
   "cell_type": "code",
   "execution_count": null,
   "metadata": {},
   "outputs": [],
   "source": [
    "\n",
    "cv2.waitKey()                                                           # Wait for a keystroke from the user before ending the program\n"
   ]
  },
  {
   "cell_type": "code",
   "execution_count": null,
   "metadata": {},
   "outputs": [],
   "source": []
  }
 ],
 "metadata": {
  "kernelspec": {
   "display_name": "Python 3",
   "language": "python",
   "name": "python3"
  },
  "language_info": {
   "codemirror_mode": {
    "name": "ipython",
    "version": 3
   },
   "file_extension": ".py",
   "mimetype": "text/x-python",
   "name": "python",
   "nbconvert_exporter": "python",
   "pygments_lexer": "ipython3",
   "version": "3.7.3"
  }
 },
 "nbformat": 4,
 "nbformat_minor": 2
}
